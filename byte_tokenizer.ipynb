{
 "cells": [
  {
   "cell_type": "markdown",
   "metadata": {},
   "source": [
    "## Byte tokenizer.\n",
    "\n",
    "Tokenizer → it encodes text to IDs. The byte tokenizer uses the bytes as tokens.\n",
    "\n",
    "For training the model, the pipeline must: 1) encode -> 2) batch -> 3) feed the model"
   ]
  },
  {
   "cell_type": "code",
   "execution_count": 35,
   "metadata": {},
   "outputs": [],
   "source": [
    "class ByteTokenizer:\n",
    "    \"\"\"\n",
    "    UTF-8 byte tokenizer: every byte (0–255) is a token.\n",
    "    Reserve extra IDs for special tokens (eos, pad).\n",
    "    \"\"\"\n",
    "    def __init__(self):\n",
    "        self.vocab_size = 258\n",
    "        self.eos_token_id = 256\n",
    "        self.pad_token_id = 257\n",
    "\n",
    "    def encode(self, text: str):\n",
    "        b = text.encode(\"utf-8\", errors=\"ignore\")\n",
    "        return list(b) + [self.eos_token_id]\n",
    "\n",
    "    def decode(self, ids):\n",
    "        b = bytes([i for i in ids if i < 256])\n",
    "        return b.decode(\"utf-8\", errors=\"replace\")"
   ]
  },
  {
   "cell_type": "code",
   "execution_count": 36,
   "metadata": {},
   "outputs": [
    {
     "name": "stdout",
     "output_type": "stream",
     "text": [
      "[104, 101, 108, 108, 111, 32, 119, 111, 114, 108, 100, 33, 33, 33, 256]\n"
     ]
    }
   ],
   "source": [
    "# text to see how the ByteTokenizer works - encoding\n",
    "\n",
    "tokenizer = ByteTokenizer()\n",
    "\n",
    "tokens = tokenizer.encode(\"hello world!!!\")\n",
    "\n",
    "print(tokens)"
   ]
  },
  {
   "cell_type": "code",
   "execution_count": 37,
   "metadata": {},
   "outputs": [
    {
     "name": "stdout",
     "output_type": "stream",
     "text": [
      "hello world!!!\n"
     ]
    }
   ],
   "source": [
    "# text to see how the ByteTokenizer works - decoding\n",
    "\n",
    "text = tokenizer.decode(tokens)\n",
    "\n",
    "print(text)"
   ]
  }
 ],
 "metadata": {
  "kernelspec": {
   "display_name": "ml_env",
   "language": "python",
   "name": "python3"
  },
  "language_info": {
   "codemirror_mode": {
    "name": "ipython",
    "version": 3
   },
   "file_extension": ".py",
   "mimetype": "text/x-python",
   "name": "python",
   "nbconvert_exporter": "python",
   "pygments_lexer": "ipython3",
   "version": "3.12.7"
  }
 },
 "nbformat": 4,
 "nbformat_minor": 2
}
