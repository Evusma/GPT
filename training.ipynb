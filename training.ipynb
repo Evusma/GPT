{
 "cells": [
  {
   "cell_type": "code",
   "execution_count": 2,
   "metadata": {},
   "outputs": [],
   "source": [
    "import torch\n",
    "import torch.nn as nn\n",
    "import torch.nn.functional as F\n",
    "import torch.optim as optim\n",
    "\n",
    "from torch.utils.data import Dataset, DataLoader\n",
    "from datetime import datetime\n",
    "from byte_tokenizer import ByteTokenizer\n",
    "from class_gpt import GPT\n"
   ]
  },
  {
   "cell_type": "markdown",
   "metadata": {},
   "source": [
    "Prepare the dataset for GPT\n",
    "\n",
    "Dataset → creates input-target pairs for LM training."
   ]
  },
  {
   "cell_type": "code",
   "execution_count": 3,
   "metadata": {},
   "outputs": [],
   "source": [
    "today = datetime.today().strftime('%Y-%m-%d')\n",
    "\n",
    "# parameters of the model\n",
    "context_length = 16\n",
    "model_dim = 12  # dimensionality for embedding and attention\n",
    "num_blocks = 4  # number of repetitions of the transformer block\n",
    "num_heads = 4  # number of self attention instances, each with size model_dim // num_heads\n",
    "\n",
    "tokenizer = ByteTokenizer()\n",
    "\n",
    "vocab_size = tokenizer.vocab_size\n",
    "batch_size = 8\n",
    "epochs = 10\n",
    "lr=3e-4  # learning rate for the gradient descent method"
   ]
  },
  {
   "cell_type": "code",
   "execution_count": 4,
   "metadata": {},
   "outputs": [],
   "source": [
    "\n",
    "class TextDataset(Dataset):\n",
    "    def __init__(self, texts, tokenizer, block_size):  #  here, block_size is the same as context_length\n",
    "        self.tokenizer = tokenizer\n",
    "        self.block_size = block_size\n",
    "\n",
    "        # Flatten all tokens into one big sequence\n",
    "        all_tokens = []\n",
    "        for t in texts:\n",
    "            all_tokens.extend(tokenizer.encode(t))\n",
    "\n",
    "        # chop the tokenized sequence into chunks of block_size\n",
    "        self.data = []\n",
    "        for i in range(0, max(1, len(all_tokens) - block_size)):\n",
    "            x = all_tokens[i : i + block_size]\n",
    "            y = all_tokens[i+1 : i + block_size+1]\n",
    "            \n",
    "            # pad if too short\n",
    "            if len(x) < block_size:\n",
    "                pad_len = block_size - len(x)\n",
    "                x = x + [tokenizer.pad_token_id] * pad_len\n",
    "                y = y + [tokenizer.pad_token_id] * pad_len\n",
    "            \n",
    "            self.data.append((x, y))\n",
    "\n",
    "    def __len__(self):\n",
    "        return len(self.data)\n",
    "\n",
    "    def __getitem__(self, idx):\n",
    "        x, y = self.data[idx]\n",
    "        return torch.tensor(x, dtype=torch.long), torch.tensor(y, dtype=torch.long)\n"
   ]
  },
  {
   "cell_type": "markdown",
   "metadata": {},
   "source": [
    "To train the model, it takes the txt file 'bon_jovi'"
   ]
  },
  {
   "cell_type": "code",
   "execution_count": 5,
   "metadata": {},
   "outputs": [
    {
     "name": "stdout",
     "output_type": "stream",
     "text": [
      "39604\n"
     ]
    }
   ],
   "source": [
    "with open(\"bon_jovi.txt\", 'r', encoding='utf-8') as file:\n",
    "    test = file.read()\n",
    "print(len(test))  # 39604\n",
    "\n",
    "dataset = TextDataset(test, tokenizer, context_length)\n",
    "\n",
    "loader = DataLoader(dataset, batch_size, shuffle=True)\n"
   ]
  },
  {
   "cell_type": "code",
   "execution_count": 6,
   "metadata": {},
   "outputs": [],
   "source": [
    "model = GPT(vocab_size, context_length, model_dim, num_blocks, num_heads)"
   ]
  },
  {
   "cell_type": "code",
   "execution_count": 7,
   "metadata": {},
   "outputs": [
    {
     "name": "stdout",
     "output_type": "stream",
     "text": [
      "Epoch 0 | Loss 5.0596\n",
      "Epoch 1 | Loss 5.0596\n",
      "Epoch 2 | Loss 5.0596\n",
      "Epoch 3 | Loss 5.0596\n",
      "Epoch 4 | Loss 5.0596\n",
      "Epoch 5 | Loss 5.0596\n",
      "Epoch 6 | Loss 5.0596\n",
      "Epoch 7 | Loss 5.0596\n",
      "Epoch 8 | Loss 5.0596\n",
      "Epoch 9 | Loss 5.0596\n"
     ]
    }
   ],
   "source": [
    "criterion = nn.CrossEntropyLoss()\n",
    "optimizer = optim.AdamW(model.parameters(), lr=lr)\n",
    "\n",
    "# training loop\n",
    "for epoch in range(epochs):\n",
    "    for batch_x, batch_y in loader:\n",
    "        \n",
    "        # forward\n",
    "        logits = model(batch_x).squeeze()  # [batch, seq, vocab]\n",
    "        loss = criterion(logits.view(-1, logits.size(-1)), batch_y.view(-1))\n",
    "\n",
    "        # backward\n",
    "        optimizer.zero_grad()\n",
    "        loss.backward()\n",
    "        optimizer.step()\n",
    "\n",
    "    print(f\"Epoch {epoch} | Loss {loss.item():.4f}\")"
   ]
  },
  {
   "cell_type": "markdown",
   "metadata": {},
   "source": [
    "For a random model with vocab_size = 258, the expected loss is: - log(1/258)≈5.55\n"
   ]
  },
  {
   "cell_type": "code",
   "execution_count": 8,
   "metadata": {},
   "outputs": [],
   "source": [
    "# Save model and optimizer, to resume training:\n",
    "checkpoint_file = f'checkpoint_{today}.pth'\n",
    "\n",
    "torch.save({\n",
    "    'epoch': epoch,                    # last completed epoch\n",
    "    'model_state_dict': model.state_dict(),\n",
    "    'optimizer_state_dict': optimizer.state_dict(),\n",
    "    'loss': loss                       # optional, for logging\n",
    "}, checkpoint_file)\n"
   ]
  }
 ],
 "metadata": {
  "kernelspec": {
   "display_name": "ml_env",
   "language": "python",
   "name": "python3"
  },
  "language_info": {
   "codemirror_mode": {
    "name": "ipython",
    "version": 3
   },
   "file_extension": ".py",
   "mimetype": "text/x-python",
   "name": "python",
   "nbconvert_exporter": "python",
   "pygments_lexer": "ipython3",
   "version": "3.12.7"
  }
 },
 "nbformat": 4,
 "nbformat_minor": 2
}
